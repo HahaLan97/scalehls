{
 "cells": [
  {
   "cell_type": "code",
   "execution_count": 3,
   "metadata": {},
   "outputs": [],
   "source": [
    "import torch\n",
    "import torch.nn as nn\n",
    "import torch.nn.functional as F\n",
    "import torchvision.models as models\n",
    "import numpy as np"
   ]
  },
  {
   "source": [
    "## DNN Layers"
   ],
   "cell_type": "markdown",
   "metadata": {}
  },
  {
   "cell_type": "code",
   "execution_count": 29,
   "metadata": {},
   "outputs": [],
   "source": [
    "M = 32\n",
    "img_random = torch.randn((1, 3, M, M))\n",
    "\n",
    "class conv2d(nn.Module):\n",
    "    def __init__(self):\n",
    "        super(conv2d, self).__init__()\n",
    "        self.conv2d = nn.Conv2d(in_channels=3, out_channels=3, kernel_size=3)\n",
    "\n",
    "    def forward(self, x):\n",
    "        y = self.conv2d(x)\n",
    "        return y"
   ]
  },
  {
   "cell_type": "code",
   "execution_count": 30,
   "metadata": {},
   "outputs": [],
   "source": [
    "torch.onnx.export(conv2d(), img_random, 'conv2d.onnx')"
   ]
  },
  {
   "cell_type": "code",
   "execution_count": 31,
   "metadata": {},
   "outputs": [],
   "source": [
    "M = 32\n",
    "img_random = torch.randn((1, 3, M, M))\n",
    "\n",
    "class maxpool2d(nn.Module):\n",
    "    def __init__(self):\n",
    "        super(maxpool2d, self).__init__()\n",
    "        self.maxpool2d = nn.MaxPool2d(kernel_size=2)\n",
    "        \n",
    "    def forward(self, x):\n",
    "        y = self.maxpool2d(x)\n",
    "        return y"
   ]
  },
  {
   "cell_type": "code",
   "execution_count": 22,
   "metadata": {},
   "outputs": [],
   "source": [
    "torch.onnx.export(maxpool2d(), img_random, 'maxpool2d.onnx')"
   ]
  },
  {
   "cell_type": "code",
   "execution_count": 32,
   "metadata": {},
   "outputs": [],
   "source": [
    "N = 1024\n",
    "X = torch.randn((2*N, N))\n",
    "\n",
    "class malmul(nn.Module):\n",
    "    def __init__(self):\n",
    "        super(malmul, self).__init__()\n",
    "\n",
    "    def forward(self, X):\n",
    "        A = torch.matmul(X[0:N,:], X[N:2*N,:])\n",
    "        return A"
   ]
  },
  {
   "cell_type": "code",
   "execution_count": 33,
   "metadata": {},
   "outputs": [],
   "source": [
    "torch.onnx.export(malmul(), X, 'malmul.onnx')"
   ]
  },
  {
   "source": [
    "## Linear Algebra"
   ],
   "cell_type": "markdown",
   "metadata": {}
  },
  {
   "cell_type": "code",
   "execution_count": 34,
   "metadata": {},
   "outputs": [],
   "source": [
    "N = 1024\n",
    "X = torch.randn((N,N))\n",
    "\n",
    "class covariance(nn.Module):\n",
    "    def __init__(self):\n",
    "        super(covariance, self).__init__()\n",
    "\n",
    "    def forward(self, X):\n",
    "        # Cov(X) = XX^T/(n-1)\n",
    "        factor = 1.0 / (X.shape[0] - 1)\n",
    "        M = X - torch.mean(X, axis=0)\n",
    "        Mt = M.t()\n",
    "        cov = factor * torch.matmul(M,Mt)\n",
    "        return cov"
   ]
  },
  {
   "cell_type": "code",
   "execution_count": 12,
   "metadata": {},
   "outputs": [],
   "source": [
    "torch.onnx.export(covariance(), X, 'covariance.onnx')"
   ]
  },
  {
   "cell_type": "code",
   "execution_count": 35,
   "metadata": {},
   "outputs": [],
   "source": [
    "N = 1024\n",
    "X = torch.randn((N,N))\n",
    "\n",
    "class correlation(nn.Module):\n",
    "    def __init__(self):\n",
    "        super(correlation, self).__init__()\n",
    "\n",
    "    def forward(self, X):\n",
    "        factor = 1 / X.shape[0]\n",
    "        means_col = torch.mean(X, axis=0)\n",
    "        stds_col = torch.std(X, axis=0)\n",
    "        M = (X - means_col)/ stds_col\n",
    "        Mt = M.t()\n",
    "        corr = factor * torch.matmul(M, Mt)\n",
    "        return corr"
   ]
  },
  {
   "cell_type": "code",
   "execution_count": 36,
   "metadata": {},
   "outputs": [],
   "source": [
    "torch.onnx.export(correlation(), X, 'correlation.onnx')"
   ]
  },
  {
   "cell_type": "code",
   "execution_count": null,
   "metadata": {},
   "outputs": [],
   "source": []
  }
 ],
 "metadata": {
  "kernelspec": {
   "display_name": "ece549",
   "language": "python",
   "name": "ece549"
  },
  "language_info": {
   "codemirror_mode": {
    "name": "ipython",
    "version": 3
   },
   "file_extension": ".py",
   "mimetype": "text/x-python",
   "name": "python",
   "nbconvert_exporter": "python",
   "pygments_lexer": "ipython3",
   "version": "3.8.2"
  }
 },
 "nbformat": 4,
 "nbformat_minor": 4
}